{
  "nbformat": 4,
  "nbformat_minor": 0,
  "metadata": {
    "colab": {
      "name": "Text generation.ipynb",
      "version": "0.3.2",
      "provenance": [],
      "collapsed_sections": []
    },
    "kernelspec": {
      "name": "python3",
      "display_name": "Python 3"
    },
    "accelerator": "GPU"
  },
  "cells": [
    {
      "cell_type": "markdown",
      "metadata": {
        "id": "tI5M9iQLZMSh",
        "colab_type": "text"
      },
      "source": [
        "# Text Generation"
      ]
    },
    {
      "cell_type": "markdown",
      "metadata": {
        "id": "2nmvQ62JZMSo",
        "colab_type": "text"
      },
      "source": [
        "<center><h3>Spooky Author Identification-Kaggle</h3></center>\n",
        " <center><h3> https://www.kaggle.com/c/spooky-author-identification</h3></center>\n",
        "\n",
        "Here, I try to generate new sentences after training an RNN on around 20,000 sentences taken from the Kaggle dataset above. While the dataset was originally meant for a different purpose, I couldn't find a dedicated dataset for text generation, so I decided to use this one.\n",
        "\n",
        "\n"
      ]
    },
    {
      "cell_type": "markdown",
      "metadata": {
        "id": "YakDHqz-W2x6",
        "colab_type": "text"
      },
      "source": [
        "## Idea\n",
        "\n",
        "I will be using language modeling to generate text. In its essence, language modeling tries to predict the next word, given prior words.  For example, given the word ''Ryan loves cats\" , language model tries to find P((next word)| 'Ryan') and then P((next word)|'Ryan', 'loves'). Ideally, the model must learn that next word is 'loves' and 'cats' for the two cases\n",
        "mentioned above.\n",
        "\n",
        "In the first part, I develop a basic word based rnn model from scratch, that works on the idea mentioned above. This model serves the show the various preprocessing steps required to feed the data and get predictions, it does not have a very good performance. In the final step, I take a pretrained char - level rnn, train it for a few epochs and use that to generate much better predictions."
      ]
    },
    {
      "cell_type": "markdown",
      "metadata": {
        "id": "x4XR9foOZMSs",
        "colab_type": "text"
      },
      "source": [
        "## Steps\n",
        "\n",
        "1. First I will preprocess the input text by tokenizing the text, generating a vocabulary of unique words from it, and saving that vocabulary in the file 'vocab.txt'.\n",
        "2. Then I will add three extra tokens - START denoting the start of a sentence, UNK for unknown words and PAD for pad tokens.\n",
        "3. Since I have limited computational power, I will restrict myself to generating sentences of maximum 20 words. This decision was made after observing the frequency of different sentence lengths in the database. All sentences greater than 20 words will be truncated, and shorter sentences will have PAD  tokens till they reach the length 20.\n",
        "4. Before feeding into the RNN, the words will be numerized by using a mapping of words in vocab.txt to corresponding numbers.\n",
        "5. For text generation, we first prepend the START token to each sentence, shifting it to the right by 1 sentence. That will be used as input to predict the output sentence. For example - For the sentence ' (START) Do it', '(START)' will be used to predict 'Do', '(START), Do' will be used to predict 'it' and so on. \n",
        "6. The data will be fed to the network in the form of batches, and LSTM Cell will be used to learn the next word by minimising the cross-entropy softmax function.\n",
        "7. For generating new text, I will enter the first few words. Then the trained model will keep on picking the next most likely word ( given by the argmax) and generate the sentence.\n"
      ]
    },
    {
      "cell_type": "code",
      "metadata": {
        "id": "QIaJHaETZQ-R",
        "colab_type": "code",
        "outputId": "87affa8e-1d68-4fc5-9be7-da10fd313f14",
        "colab": {
          "base_uri": "https://localhost:8080/",
          "height": 238
        }
      },
      "source": [
        "!pip install segtok # needed for tokenization"
      ],
      "execution_count": 0,
      "outputs": [
        {
          "output_type": "stream",
          "text": [
            "Collecting segtok\n",
            "  Downloading https://files.pythonhosted.org/packages/1d/59/6ed78856ab99d2da04084b59e7da797972baa0efecb71546b16d48e49d9b/segtok-1.5.7.tar.gz\n",
            "Collecting regex (from segtok)\n",
            "\u001b[?25l  Downloading https://files.pythonhosted.org/packages/6f/4e/1b178c38c9a1a184288f72065a65ca01f3154df43c6ad898624149b8b4e0/regex-2019.06.08.tar.gz (651kB)\n",
            "\u001b[K     |████████████████████████████████| 655kB 7.4MB/s \n",
            "\u001b[?25hBuilding wheels for collected packages: segtok, regex\n",
            "  Building wheel for segtok (setup.py) ... \u001b[?25l\u001b[?25hdone\n",
            "  Stored in directory: /root/.cache/pip/wheels/15/ee/a8/6112173f1386d33eebedb3f73429cfa41a4c3084556bcee254\n",
            "  Building wheel for regex (setup.py) ... \u001b[?25l\u001b[?25hdone\n",
            "  Stored in directory: /root/.cache/pip/wheels/35/e4/80/abf3b33ba89cf65cd262af8a22a5a999cc28fbfabea6b38473\n",
            "Successfully built segtok regex\n",
            "Installing collected packages: regex, segtok\n",
            "Successfully installed regex-2019.6.8 segtok-1.5.7\n"
          ],
          "name": "stdout"
        }
      ]
    },
    {
      "cell_type": "code",
      "metadata": {
        "id": "TGwXB10JZX0u",
        "colab_type": "code",
        "outputId": "78351d48-3187-4400-b554-11ef4339f381",
        "colab": {
          "base_uri": "https://localhost:8080/",
          "height": 122
        }
      },
      "source": [
        "from google.colab import drive\n",
        "drive.mount('/content/gdrive', force_remount = True)"
      ],
      "execution_count": 0,
      "outputs": [
        {
          "output_type": "stream",
          "text": [
            "Go to this URL in a browser: https://accounts.google.com/o/oauth2/auth?client_id=947318989803-6bn6qk8qdgf4n4g3pfee6491hc0brc4i.apps.googleusercontent.com&redirect_uri=urn%3Aietf%3Awg%3Aoauth%3A2.0%3Aoob&scope=email%20https%3A%2F%2Fwww.googleapis.com%2Fauth%2Fdocs.test%20https%3A%2F%2Fwww.googleapis.com%2Fauth%2Fdrive%20https%3A%2F%2Fwww.googleapis.com%2Fauth%2Fdrive.photos.readonly%20https%3A%2F%2Fwww.googleapis.com%2Fauth%2Fpeopleapi.readonly&response_type=code\n",
            "\n",
            "Enter your authorization code:\n",
            "··········\n",
            "Mounted at /content/gdrive\n"
          ],
          "name": "stdout"
        }
      ]
    },
    {
      "cell_type": "code",
      "metadata": {
        "id": "Bg0AM_nfZMS3",
        "colab_type": "code",
        "colab": {}
      },
      "source": [
        "from segtok import tokenizer\n",
        "import tensorflow as tf\n",
        "import numpy as np\n",
        "import json\n",
        "import os, sys\n",
        "\n",
        "sys.path.insert(0, \"/content/gdrive/My Drive/text_generation/\") \n",
        "\n",
        "root_folder = \"/content/gdrive/My Drive/text_generation/\""
      ],
      "execution_count": 0,
      "outputs": []
    },
    {
      "cell_type": "markdown",
      "metadata": {
        "id": "ci9YRpOhZMT4",
        "colab_type": "text"
      },
      "source": [
        "## Preprocessing"
      ]
    },
    {
      "cell_type": "markdown",
      "metadata": {
        "id": "QeUUGg3OZMT8",
        "colab_type": "text"
      },
      "source": [
        "The function 'unique_file' opens the input file ('train.txt'), reads it and saves all the unique words in an output file ('vocab.txt'). We also store the word lengths in a dictionary, where key is the word length and value is the number of sentences having that length. We then plot a word length distribution."
      ]
    },
    {
      "cell_type": "code",
      "metadata": {
        "id": "LxsqxA_qI01-",
        "colab_type": "code",
        "colab": {}
      },
      "source": [
        "def unique_file(input_filename, output_filename):\n",
        "    input_file = open(input_filename, 'r')\n",
        "    file_contents = input_file.read()\n",
        "    input_file.close()\n",
        "    duplicates = set()\n",
        "    word_list = file_contents.split()\n",
        "    file = open(output_filename, 'w')\n",
        "    for word in word_list:\n",
        "        if word.lower() not in duplicates:\n",
        "            duplicates.add(word.lower())\n",
        "            file.write(str(word.lower()) + \"\\n\")\n",
        "    file.close()"
      ],
      "execution_count": 0,
      "outputs": []
    },
    {
      "cell_type": "code",
      "metadata": {
        "id": "0KHkFCQvS1b1",
        "colab_type": "code",
        "colab": {}
      },
      "source": [
        "from collections import defaultdict\n",
        "wordcounts = defaultdict(int)\n",
        "d = dict()\n",
        "with open(root_folder+\"train.txt\") as f:\n",
        "    text = f.read()\n",
        "    sentences = text.split('.')\n",
        "    for sentence in sentences:\n",
        "        words = sentence.split(' ')\n",
        "        wordcounts[len(words)] += 1"
      ],
      "execution_count": 0,
      "outputs": []
    },
    {
      "cell_type": "code",
      "metadata": {
        "id": "UwSZYp5dYA5w",
        "colab_type": "code",
        "outputId": "282b288a-8d1b-46fe-cc73-a456b9d6f690",
        "colab": {
          "base_uri": "https://localhost:8080/",
          "height": 295
        }
      },
      "source": [
        "\n",
        "import matplotlib.pyplot as plt\n",
        "\n",
        "lists = sorted(wordcounts.items())[:50] # sorted by key, return a list of tuples\n",
        "\n",
        "x, y = zip(*lists) # unpack a list of pairs into two tuples\n",
        "plt.title(\"Distribution of word lengths\")\n",
        "plt.xlabel(\"No of words\")\n",
        "plt.ylabel(\"No of sentences\")\n",
        "plt.plot(x, y)\n",
        "\n",
        "plt.show()"
      ],
      "execution_count": 0,
      "outputs": [
        {
          "output_type": "display_data",
          "data": {
            "image/png": "[encoded data removed]",
            "text/plain": [
              "<Figure size 432x288 with 1 Axes>"
            ]
          },
          "metadata": {
            "tags": []
          }
        }
      ]
    },
    {
      "cell_type": "code",
      "metadata": {
        "id": "DvqSI2g0KNwY",
        "colab_type": "code",
        "colab": {}
      },
      "source": [
        "unique_file(root_folder+\"train.txt\", root_folder+\"vocab.txt\")"
      ],
      "execution_count": 0,
      "outputs": []
    },
    {
      "cell_type": "markdown",
      "metadata": {
        "id": "h1sGMnLikRd_",
        "colab_type": "text"
      },
      "source": [
        "'numerize_sequence' converts each word to its corresponding mapping to a number. 'pad_sequence' adds pad tokens to a sentence till  it is of the length 'to_length' (in this case, 20)"
      ]
    },
    {
      "cell_type": "code",
      "metadata": {
        "id": "ucgsqX8vkcih",
        "colab_type": "code",
        "colab": {}
      },
      "source": [
        "def numerize_sequence(tokenized):\n",
        "    return [w2i.get(w, unkI) for w in tokenized]\n",
        "def pad_sequence(numerized, pad_index, to_length):\n",
        "    pad = numerized[:to_length]\n",
        "    padded = pad + [pad_index] * (to_length - len(pad))\n",
        "    mask = [w != pad_index for w in padded]\n",
        "    return padded, mask"
      ],
      "execution_count": 0,
      "outputs": []
    },
    {
      "cell_type": "markdown",
      "metadata": {
        "id": "3C8fYSvVpzMg",
        "colab_type": "text"
      },
      "source": [
        "I have manually added 3 tokens 'UNK', 'PAD', 'START' to vocab.txt file"
      ]
    },
    {
      "cell_type": "code",
      "metadata": {
        "id": "LBHl7ZMKrm5-",
        "colab_type": "code",
        "colab": {}
      },
      "source": [
        "file = root_folder + \"vocab.txt\"\n",
        "with open(file) as f:\n",
        "    vocabulary = f.read().split()"
      ],
      "execution_count": 0,
      "outputs": []
    },
    {
      "cell_type": "code",
      "metadata": {
        "id": "C1-P4bK5l2xt",
        "colab_type": "code",
        "colab": {}
      },
      "source": [
        "w2i = {w: i for i, w in enumerate(vocabulary)}\n",
        "input_length = 20\n",
        "unkI, padI, start_index = w2i['UNK'], w2i['PAD'], w2i['<START>']\n"
      ],
      "execution_count": 0,
      "outputs": []
    },
    {
      "cell_type": "markdown",
      "metadata": {
        "id": "Yq_ophWeu1ig",
        "colab_type": "text"
      },
      "source": [
        "Now, I break each sentence into the dataset into following 4 parts:\n",
        "- title - The actual text\n",
        "- numerized - Numerized version of the text\n",
        "- mask - Gives information about how long each sentence is\n",
        "- part - Whether the sentence is part of training or validation (every 10th sentence is put into validation set)"
      ]
    },
    {
      "cell_type": "code",
      "metadata": {
        "id": "Hc9gW3o4hNgL",
        "colab_type": "code",
        "colab": {}
      },
      "source": [
        "data = []\n",
        "i = 0\n",
        "input_length = 20\n",
        "with open(root_folder+\"train.txt\") as f:\n",
        "    text = f.read()\n",
        "    sentences = text.split('.')\n",
        "    for sentence in sentences:\n",
        "      data.append(dict())\n",
        "      sentence = sentence.replace('\\n', '')\n",
        "      words = sentence.split(' ')\n",
        "      l = min(len(words), input_length) \n",
        "      sentence = ''\n",
        "      for i in range(1, l): \n",
        "        sentence = sentence+words[i] + ' ' # LSTM is trained on lower-cased headlines\n",
        "      data[-1][\"title\"] = sentence\n",
        "\n",
        "      # Tokenize the sentence\n",
        "      tokenized = tokenizer.word_tokenizer(sentence)\n",
        "\n",
        "      # numerize the tokenized headline\n",
        "      numerized = numerize_sequence(tokenized)\n",
        "      padI = w2i['PAD']\n",
        "      numerized, mask = pad_sequence(numerized, padI, input_length) # Append appropriate PAD tokens\n",
        "\n",
        "      data[-1]['numerized'] = numerized\n",
        "\n",
        "      # apply mask\n",
        "      data[-1]['mask'] = mask\n",
        "\n",
        "      # split into train and test\n",
        "      if i%10:\n",
        "        data[-1]['part'] = \"train\"\n",
        "      else:\n",
        "        data[-1]['part'] = \"validation\"\n",
        "      i += 1"
      ],
      "execution_count": 0,
      "outputs": []
    },
    {
      "cell_type": "code",
      "metadata": {
        "id": "88It-1d5mCsh",
        "colab_type": "code",
        "outputId": "beec1ec3-f7c9-4e43-c6c3-06690dc2d88b",
        "colab": {
          "base_uri": "https://localhost:8080/",
          "height": 731
        }
      },
      "source": [
        "data[1]"
      ],
      "execution_count": 0,
      "outputs": [
        {
          "output_type": "execute_result",
          "data": {
            "text/plain": [
              "{'mask': [True,\n",
              "  True,\n",
              "  True,\n",
              "  True,\n",
              "  True,\n",
              "  True,\n",
              "  True,\n",
              "  True,\n",
              "  True,\n",
              "  True,\n",
              "  True,\n",
              "  True,\n",
              "  True,\n",
              "  False,\n",
              "  False,\n",
              "  False,\n",
              "  False,\n",
              "  False,\n",
              "  False,\n",
              "  False],\n",
              " 'numerized': [39,\n",
              "  40,\n",
              "  41,\n",
              "  24,\n",
              "  7,\n",
              "  42,\n",
              "  12,\n",
              "  43,\n",
              "  18,\n",
              "  44,\n",
              "  45,\n",
              "  46,\n",
              "  21003,\n",
              "  2,\n",
              "  2,\n",
              "  2,\n",
              "  2,\n",
              "  2,\n",
              "  2,\n",
              "  2],\n",
              " 'part': 'train',\n",
              " 'title': 'never once occurred to me that the fumbling might be a mere mistake '}"
            ]
          },
          "metadata": {
            "tags": []
          },
          "execution_count": 9
        }
      ]
    },
    {
      "cell_type": "code",
      "metadata": {
        "id": "cZFSefKns6_-",
        "colab_type": "code",
        "outputId": "3c5ef413-2e67-44de-815e-153c5e08001c",
        "colab": {
          "base_uri": "https://localhost:8080/",
          "height": 51
        }
      },
      "source": [
        "d_train = [d for d in data if d['part'] == 'train']\n",
        "d_valid = [d for d in data if d['part'] == 'validation']\n",
        "\n",
        "print(\"Number of training samples:\",len(d_train))\n",
        "print(\"Number of validation samples:\",len(d_valid))"
      ],
      "execution_count": 0,
      "outputs": [
        {
          "output_type": "stream",
          "text": [
            "Number of training samples: 19512\n",
            "Number of validation samples: 564\n"
          ],
          "name": "stdout"
        }
      ]
    },
    {
      "cell_type": "markdown",
      "metadata": {
        "id": "d7KsaMTYZMUT",
        "colab_type": "text"
      },
      "source": [
        "## Making pipeline to feed batches of sentences into the neural net"
      ]
    },
    {
      "cell_type": "code",
      "metadata": {
        "id": "-UQrGDCKIZF7",
        "colab_type": "code",
        "colab": {}
      },
      "source": [
        "def build_batch(dataset, batch_size):\n",
        "\n",
        "    # choose random indices for each batch\n",
        "    indices = list(np.random.randint(0, len(dataset), size=batch_size))\n",
        "    \n",
        "    # Recover what the entries for the batch are\n",
        "    batch = [dataset[i] for i in indices]\n",
        "    \n",
        "    # Get numerized for this input, each element of the dataset has a 'numerized' key\n",
        "    batch_numerized = [i['numerized'] for i in batch]\n",
        "\n",
        "    # Create an array of start_indices that will be concatenated at beginning of input\n",
        "    start_tokens = np.array([start_index]*batch_size).reshape((batch_size, 1))\n",
        "\n",
        "    # Concatenate the start_tokens with the rest of the input\n",
        "    batch_input = np.concatenate((start_tokens, batch_numerized), axis=1) \n",
        "\n",
        "    # Remove the last word from each element in the batch\n",
        "    batch_input = batch_input[:,:-1]\n",
        "    #print(batch_input.shape)\n",
        "    \n",
        "    batch_target = batch_numerized\n",
        "\n",
        "    # The target-mask to know which places have 'PAD' token\n",
        "    batch_target_mask = np.array([a['mask'] for a in batch])\n",
        "       \n",
        "    return batch_input, batch_target, batch_target_mask"
      ],
      "execution_count": 0,
      "outputs": []
    },
    {
      "cell_type": "markdown",
      "metadata": {
        "id": "36SjiEj-ZMUe",
        "colab_type": "text"
      },
      "source": [
        "# RNN"
      ]
    },
    {
      "cell_type": "markdown",
      "metadata": {
        "id": "KH7PzTdLZMUj",
        "colab_type": "text"
      },
      "source": [
        "\n",
        "- I will use placeholders to feed in inputs and actual targets.\n",
        "- Then I will use an RNN to get an output, and project it on the dimension of size 'vocabulary' so that we get probability estimates for each word in the vocabulary.\n",
        "- The optimizer will try to minimize the loss between the predicted word and the actual word."
      ]
    },
    {
      "cell_type": "code",
      "metadata": {
        "id": "TK3UTjGhZMUn",
        "colab_type": "code",
        "colab": {}
      },
      "source": [
        "class LanguageModel():\n",
        "    def __init__(self, input_length, vocab_size, rnn_size, learning_rate=1e-3):\n",
        "        \n",
        "        # Creating placeholders\n",
        "        self.input_num = tf.placeholder(tf.int32, shape=[None, input_length])\n",
        "        self.targets = tf.placeholder(tf.int32, shape=[None, input_length])\n",
        "        self.targets_mask = tf.placeholder(tf.int32, shape=[None, input_length])\n",
        "\n",
        "        # Mapping each word in vocab into a vector of rnn_size size.\n",
        "        embedding = tf.get_variable(\"embedding\", [vocab_size, rnn_size], dtype = tf.float32)\n",
        "        input_emb = tf.nn.embedding_lookup(embedding, self.input_num)\n",
        "        \n",
        "        # Create the RNN (I use LSTM with Dropout after trying some other combinations)   \n",
        "        lm_cell = tf.nn.rnn_cell.LSTMCell(rnn_size)\n",
        "        lm_cell = tf.nn.rnn_cell.DropoutWrapper(lm_cell, input_keep_prob = 0.8)\n",
        "        # dynamic_rnn introduces the recurrence\n",
        "        outputs, states = tf.nn.dynamic_rnn(lm_cell, input_emb, dtype = tf.float32)\n",
        "\n",
        "        # Project rnn output to vocab_size\n",
        "        self.output_logits = tf.layers.dense(outputs,units = vocab_size ) \n",
        "\n",
        "        # calculate loss\n",
        "        self.loss = tf.losses.sparse_softmax_cross_entropy(labels = self.targets, logits = self.output_logits, weights = self.targets_mask)                 \n",
        "\n",
        "        optimizer = tf.train.AdamOptimizer(learning_rate = learning_rate)       \n",
        "\n",
        "        self.global_step = tf.train.get_or_create_global_step()\n",
        "        self.train_op = optimizer.minimize(self.loss, global_step = self.global_step)\n",
        "        self.saver = tf.train.Saver()"
      ],
      "execution_count": 0,
      "outputs": []
    },
    {
      "cell_type": "code",
      "metadata": {
        "id": "2jH3sPmhZMUu",
        "colab_type": "code",
        "outputId": "f057ee10-cf00-4136-a937-ff3942346f5b",
        "colab": {
          "base_uri": "https://localhost:8080/",
          "height": 360
        }
      },
      "source": [
        "tf.reset_default_graph()# clear variable space\n",
        "vocab_size = len(vocabulary)\n",
        "model = LanguageModel(input_length=input_length, vocab_size=vocab_size, rnn_size=256, learning_rate=1e-3)"
      ],
      "execution_count": 0,
      "outputs": [
        {
          "output_type": "stream",
          "text": [
            "WARNING: Logging before flag parsing goes to stderr.\n",
            "W0627 07:26:46.582612 140158910969728 deprecation.py:506] From /usr/local/lib/python3.6/dist-packages/tensorflow/python/ops/init_ops.py:1251: calling VarianceScaling.__init__ (from tensorflow.python.ops.init_ops) with dtype is deprecated and will be removed in a future version.\n",
            "Instructions for updating:\n",
            "Call initializer instance with the dtype argument instead of passing it to the constructor\n",
            "W0627 07:26:46.601772 140158910969728 deprecation.py:323] From <ipython-input-12-efb174729623>:14: LSTMCell.__init__ (from tensorflow.python.ops.rnn_cell_impl) is deprecated and will be removed in a future version.\n",
            "Instructions for updating:\n",
            "This class is equivalent as tf.keras.layers.LSTMCell, and will be replaced by that in Tensorflow 2.0.\n",
            "W0627 07:26:46.609007 140158910969728 deprecation.py:323] From <ipython-input-12-efb174729623>:17: dynamic_rnn (from tensorflow.python.ops.rnn) is deprecated and will be removed in a future version.\n",
            "Instructions for updating:\n",
            "Please use `keras.layers.RNN(cell)`, which is equivalent to this API\n",
            "W0627 07:26:46.744477 140158910969728 deprecation.py:506] From /usr/local/lib/python3.6/dist-packages/tensorflow/python/ops/rnn_cell_impl.py:961: calling Zeros.__init__ (from tensorflow.python.ops.init_ops) with dtype is deprecated and will be removed in a future version.\n",
            "Instructions for updating:\n",
            "Call initializer instance with the dtype argument instead of passing it to the constructor\n",
            "W0627 07:26:47.465925 140158910969728 deprecation.py:323] From <ipython-input-12-efb174729623>:20: dense (from tensorflow.python.layers.core) is deprecated and will be removed in a future version.\n",
            "Instructions for updating:\n",
            "Use keras.layers.dense instead.\n",
            "W0627 07:26:48.012015 140158910969728 deprecation.py:323] From /usr/local/lib/python3.6/dist-packages/tensorflow/python/ops/losses/losses_impl.py:121: add_dispatch_support.<locals>.wrapper (from tensorflow.python.ops.array_ops) is deprecated and will be removed in a future version.\n",
            "Instructions for updating:\n",
            "Use tf.where in 2.0, which has the same broadcast rule as np.where\n"
          ],
          "name": "stderr"
        }
      ]
    },
    {
      "cell_type": "markdown",
      "metadata": {
        "id": "krUmQsMvZMUz",
        "colab_type": "text"
      },
      "source": [
        "## Model Training"
      ]
    },
    {
      "cell_type": "markdown",
      "metadata": {
        "id": "C_4Zyh6SZMU6",
        "colab_type": "text"
      },
      "source": [
        "I experimented with a range of hyperparameters :\n",
        "- Learning rate\n",
        "- Type of optimizer ( Adam, SGD etc)\n",
        "- Using dropout \n",
        "- Architecture - Using rnn cell, LSTM cell.\n",
        "\n",
        "Finally I train my model for 10000 iterations with a batch size of 16, so roughly 8 epochs  (takes around 20 minutes on my system). \n",
        "Final parameters are:\n",
        "Learning rate of 1e-3, LSTM cell with size of 256 with keep_prob of 0.8, Adam Optimizer"
      ]
    },
    {
      "cell_type": "code",
      "metadata": {
        "id": "uhk4QFSs4Eu8",
        "colab_type": "code",
        "outputId": "624c9346-def4-48cd-d25d-8699efbd2793",
        "colab": {
          "base_uri": "https://localhost:8080/",
          "height": 102
        }
      },
      "source": [
        "experiment = root_folder+\"models/language_model_1\"\n",
        "\n",
        "with tf.Session() as sess:\n",
        "  \n",
        "    sess.run(tf.global_variables_initializer())\n",
        "    for i in range(10000):\n",
        "      batch_size = 16\n",
        "      batch_input, batch_target, batch_target_mask = build_batch(d_train, batch_size)\n",
        "      feed = {model.input_num: batch_input, model.targets: batch_target, model.targets_mask: batch_target_mask}\n",
        "\n",
        "      step, train_loss, _ = sess.run([model.global_step, model.loss, model.train_op], feed_dict=feed)\n",
        "      if i%2000 == 0: \n",
        "        print(f\"Loss after {i} iterations: \", train_loss)\n",
        "    \n",
        "    model.saver.save(sess, experiment)"
      ],
      "execution_count": 0,
      "outputs": [
        {
          "output_type": "stream",
          "text": [
            "Loss after 0 iterations:  10.769726\n",
            "Loss after 2000 iterations:  5.676057\n",
            "Loss after 4000 iterations:  5.030911\n",
            "Loss after 6000 iterations:  5.150795\n",
            "Loss after 8000 iterations:  4.4185038\n"
          ],
          "name": "stdout"
        }
      ]
    },
    {
      "cell_type": "markdown",
      "metadata": {
        "id": "-w8qCQJR_3Wa",
        "colab_type": "text"
      },
      "source": [
        "## Checking loss on validation set"
      ]
    },
    {
      "cell_type": "code",
      "metadata": {
        "id": "CDPSMuPMZMVT",
        "colab_type": "code",
        "outputId": "d70126c7-c38e-4c56-a03b-7390869fca06",
        "colab": {
          "base_uri": "https://localhost:8080/",
          "height": 105
        }
      },
      "source": [
        "model_file = root_folder+\"models/language_model_1\"\n",
        "with tf.Session() as sess:\n",
        "    model.saver.restore(sess, model_file)\n",
        "    eval_input, eval_target, eval_target_mask = build_batch(d_valid, 500)\n",
        "    feed = {model.input_num: eval_input, model.targets: eval_target, model.targets_mask: eval_target_mask}\n",
        "    eval_loss = sess.run([model.loss], feed_dict=feed)\n",
        "    print(\"Evaluation set loss:\", eval_loss)"
      ],
      "execution_count": 0,
      "outputs": [
        {
          "output_type": "stream",
          "text": [
            "W0627 07:54:23.348746 140158910969728 deprecation.py:323] From /usr/local/lib/python3.6/dist-packages/tensorflow/python/training/saver.py:1276: checkpoint_exists (from tensorflow.python.training.checkpoint_management) is deprecated and will be removed in a future version.\n",
            "Instructions for updating:\n",
            "Use standard file APIs to check for files with this prefix.\n"
          ],
          "name": "stderr"
        },
        {
          "output_type": "stream",
          "text": [
            "Evaluation set loss: [6.521181]\n"
          ],
          "name": "stdout"
        }
      ]
    },
    {
      "cell_type": "markdown",
      "metadata": {
        "id": "rDV6qwMhZMWQ",
        "colab_type": "text"
      },
      "source": [
        "## Text Generation\n",
        "\n",
        "For generating new text, I will enter the first few words. Then the trained model will keep on picking the next most likely word ( given by the argmax) and generate the sentence."
      ]
    },
    {
      "cell_type": "code",
      "metadata": {
        "id": "gopFoDCTZMWT",
        "colab_type": "code",
        "outputId": "8e0c0432-edc6-44cc-f2d6-0f255811af23",
        "colab": {
          "base_uri": "https://localhost:8080/",
          "height": 221
        }
      },
      "source": [
        "with tf.Session() as sess:\n",
        "    model.saver.restore(sess, model_file)\n",
        "    headline_starters = [\"i even \", \"all that\", \"where was\", \"sometimes it\"]\n",
        "    input_length = 20\n",
        "    for headline_starter in headline_starters:\n",
        "        print(\"===================\")\n",
        "        print(\"Generating headline starting with: \"+headline_starter)\n",
        "\n",
        "        tokenized = tokenizer.word_tokenizer(headline_starter)\n",
        "        current_build = [start_index] + numerize_sequence(tokenized)\n",
        "\n",
        "        while len(current_build) < input_length:\n",
        "            # Pad so that sentence can be fed in the rnn\n",
        "            current_padded = current_build[:input_length] + [padI] * (input_length - len(current_build))\n",
        "            current_padded = np.array([current_padded])\n",
        "\n",
        "            # Obtain the logits for the current padded sequence\n",
        "            feed = {model.input_num: current_padded}\n",
        "            logits = np.array(sess.run(model.output_logits, feed_dict=feed))\n",
        "            \n",
        "            # Get logits for the last non-pad inputs\n",
        "            last_logits = logits[0, len(current_build), :]\n",
        "            \n",
        "            # Find the highest scoring word in the last_logits, excluding punctuation signs for now as the model hasnt yet learnt how to incorporate them\n",
        "            word_idx = np.argsort(last_logits)[-10:]\n",
        "            words = [vocabulary[w] for w in word_idx]\n",
        "            for idx in word_idx[::-1]:\n",
        "              if vocabulary[idx] not in [\"UNK\", \"PAD\", \"<START>\", \"'\", \"-\",\"(\", \")\", \",\", \"?\"]: \n",
        "                current_build.append(idx)\n",
        "                break\n",
        "        \n",
        "        # use vocabulary to map numbers back to words\n",
        "        produced_sentence = [vocabulary[idx] for idx in current_build]\n",
        "        print(' '.join(produced_sentence))\n",
        "        "
      ],
      "execution_count": 0,
      "outputs": [
        {
          "output_type": "stream",
          "text": [
            "===================\n",
            "Generating headline starting with: i even \n",
            "<START> i even were in and a stampede which the of birds in and a fought in a dedicated in\n",
            "===================\n",
            "Generating headline starting with: all that\n",
            "<START> all that have the of Harris in the of causes in the of a themselves in a of black\n",
            "===================\n",
            "Generating headline starting with: where was\n",
            "<START> where was in a of and a time a time in a of effort to the of causes in\n",
            "===================\n",
            "Generating headline starting with: sometimes it\n",
            "<START> sometimes it that the of folks in the of and a packet in the shift in the of and\n"
          ],
          "name": "stdout"
        }
      ]
    },
    {
      "cell_type": "markdown",
      "metadata": {
        "id": "4oYS2JVeSVJ8",
        "colab_type": "text"
      },
      "source": [
        "## Using pretrained network\n",
        "\n",
        "The model above serves just to demonstrate the working of a simple rnn, it requires substantial work in terms of making a deeper architecture and training for more time to achieve better performance. For demonstration purposes, I will now use a pretrained char-based rnn (https://github.com/minimaxir/textgenrnn) to show how text is generated after training for 3 epochs. Being a char-based rnn, the model makes some spelling mistakes while generating words, but it does a better job at generating longer sentences than our model. Similarly, one can take other pretrained networks like GPT-2 and use them to generate sentences for our task."
      ]
    },
    {
      "cell_type": "code",
      "metadata": {
        "id": "-im-L_xYGRrX",
        "colab_type": "code",
        "outputId": "d9620db6-a693-4908-fc30-65de2f267e7e",
        "colab": {
          "base_uri": "https://localhost:8080/",
          "height": 34
        }
      },
      "source": [
        "from textgenrnn import textgenrnn\n"
      ],
      "execution_count": 0,
      "outputs": [
        {
          "output_type": "stream",
          "text": [
            "Using TensorFlow backend.\n"
          ],
          "name": "stderr"
        }
      ]
    },
    {
      "cell_type": "code",
      "metadata": {
        "id": "tpo2P6kzSk70",
        "colab_type": "code",
        "outputId": "37fdae44-edcc-41ca-a2df-3ed16ebb773a",
        "colab": {
          "base_uri": "https://localhost:8080/",
          "height": 1000
        }
      },
      "source": [
        "root_folder = \"/content/gdrive/My Drive/text_generation/\"\n",
        "textgen.train_from_file(root_folder + 'train.txt', num_epochs=3)\n",
        "textgen.generate()"
      ],
      "execution_count": 0,
      "outputs": [
        {
          "output_type": "stream",
          "text": [
            "19,578 texts collected.\n",
            "Training on 2,937,742 character sequences.\n",
            "Epoch 1/3\n",
            "22951/22951 [==============================] - 346s 15ms/step - loss: 1.4213\n",
            "####################\n",
            "Temperature: 0.2\n",
            "####################\n",
            "I said the secret of the secret of the steps of the shoulder of the countenance and the continual secret of the contagion of the secret of the sun and the character of the start deserves of the shoulder and secret of the soul of the short best the short and contrary of the countenance of the short\n",
            "\n",
            "I said the press of the streets of the life of the shoulder of the contemple deserted me to the most conscious of the subject of the sound of the secret of the shoulder of the contribuation of the shoulder and the soul of the deserted contrary of the deserted matter and chief and contribuation of \n",
            "\n",
            "I say the shoulder of the shoulder of the careful countenance of the streets of the secret of the continual preserves of the being and contagion of the great and descendation of the opinous of the countenance of the short and press of the contemplated means of the surranging the shoulder of the se\n",
            "\n",
            "####################\n",
            "Temperature: 0.5\n",
            "####################\n",
            "It is by the same passion of the short, and the left ship of the contementual creature Varbay who had been an excited soul of the books, the roots of whom I could be death to star the days of my inclesses or my proper countenance.\n",
            "\n",
            "I shall make the mirror down the performers of the souls and food and press the the present tooks and life of the gentle breaker who did not afford that the chief shoulder and pressure in the stease of the conscious things are sometimes and as the Cerin of the world.\n",
            "\n",
            "And it was dark and distinct to my counter and his perfumbers of the star in the sufficient days of the creature open the minute careful little filling and continual meaning and character of the secret of every desight, and the secret of the creature and became on conscious point of the part of th\n",
            "\n",
            "####################\n",
            "Temperature: 1.0\n",
            "####################\n",
            "Not not a sreim, they entered to prevent the razific of veagure, and plendant, because he harmmocks should the for himself.\n",
            "\n",
            "He continise usually disturbed, nor prey's Lamma, had been livernier over her dwell.\n",
            "\n",
            "I may be milmaties on enough,\" he were entirely before for less.\n",
            "\n",
            "Epoch 2/3\n",
            "22951/22951 [==============================] - 340s 15ms/step - loss: 1.3524\n",
            "####################\n",
            "Temperature: 0.2\n",
            "####################\n",
            "I was a company of the consequence of the strange companions of the strange constanctions of the strange strange constantion of the consciousness of the strange strange death of the streets of the deceive that he had not the sea of the strange southward had been a considerable constant of the stra\n",
            "\n",
            "I have not the strange sense of the strange constant and the strange past and an earth of the strange strange state of the commonsions of the strange reason and communizations and the strange conscious of the stars of the strange consequence of the consideration of the water and strange conscious \n",
            "\n",
            "The strange and this state of the strange strange described to the constant of the strange strange conscious of the consideration of the contradity of the strange and strange consciousness and the strange spectators of the strange and second and strange dissolution of the strange conscious was a p\n",
            "\n",
            "####################\n",
            "Temperature: 0.5\n",
            "####################\n",
            "Amazerations were low, and combined to the stars and realms of the wisdom in a distance.\n",
            "\n",
            "So fire, the districation of the thing shall feel the silent through his under the air.\n",
            "\n",
            "I earth my natural signs of the streets of the side of the ancient second that arranged and dead and common of the conded from the courted and abode, at least content the new appearance.\n",
            "\n",
            "####################\n",
            "Temperature: 1.0\n",
            "####################\n",
            "The life on thitient was balance a full idea of my aethers, thus: read, puts will vass.\n",
            "\n",
            "He saw the less consequence.\n",
            "\n",
            "Mrs dark hilar and evidence of the evil or to the coat more at  Usonn, sardocities by Jypos left the goodish and police if the door lap could sudden togetherny above in the Snay, and that I but diffisted well to earth a habitate dearystime bent too, dearly the majely are others home, Rajea, I nece\n",
            "\n",
            "Epoch 3/3\n",
            "22951/22951 [==============================] - 335s 15ms/step - loss: 1.2906\n",
            "####################\n",
            "Temperature: 0.2\n",
            "####################\n",
            "The body of the strange state of the strange part of the following of the wild death of the world of the whole and the strange and the properties of the strange state of the fact of the arms of the consciousness of the state of the state of the strange companions of the steps of the accustomed thi\n",
            "\n",
            "The strange dead and the strange descent of the part of the street of the beauty of the part of the man of the stars of the balloon of the man of the strange day of the moon of the man of the stars of the strange and the state of the sun of the town of the dead part of the water of the strange dea\n",
            "\n",
            "I was a strange day of the dead and the body of the body of the dead and the proportion of the ancient described the moon of the dead and the life of the considerable streets of the morning of the man of the man of the street and the sharp of the shadow of the dark of the man of the strange partic\n",
            "\n",
            "####################\n",
            "Temperature: 0.5\n",
            "####################\n",
            "I sit to the comparation of the warmed put of the beast of the interest, as in the depth and I am so fancy to the body of the suspicion and making it as the old crowd which is not the way displayed a resignation of his present singular part of part of the impulse of the old man had seen the most b\n",
            "\n",
            "In the table of the sense of the shadow of the story and some position of the subject of the world to possible the sea of the stream of increased, the wild three and all the personal door and all the fashionable man from her father that is the shore of the body of a capacity of a change, and and t\n",
            "\n",
            "The stairs of the limbs which we were heard to the also the dead and the straight which the ancient summonts of the side of the returned shadow was not to the observations of the side of a black hour and a very death and the world of a night by its more and completely need of the morning of the or\n",
            "\n",
            "####################\n",
            "Temperature: 1.0\n",
            "####################\n",
            "I thus placed me that it is accompanied it al, we must not reven probable fiend.\n",
            "\n",
            "These ones had made me were overstood of suspicious air, relief as the Greek, apartless, which before a thing, and a dullen; and, that you undid the big first perceived, balm at one sound younger into this brain and we had traced every bottom in my skyle, and the attention altogether should become\n",
            "\n",
            "The way of a faculty faced a mists of impossible storming determints of night, century he will have been combinatives in silence.\n",
            "\n",
            "The monster was the struggles of a possessive character of a stair in the darkness of the interest of the screaming best and the agony of the assertion of the chimney of my deeper which had been a best of a reach of a black despaired with my little buildings of that fear of the memory.\n",
            "\n"
          ],
          "name": "stdout"
        }
      ]
    },
    {
      "cell_type": "code",
      "metadata": {
        "id": "xc9O1QHYTopU",
        "colab_type": "code",
        "colab": {}
      },
      "source": [
        ""
      ],
      "execution_count": 0,
      "outputs": []
    }
  ]
}